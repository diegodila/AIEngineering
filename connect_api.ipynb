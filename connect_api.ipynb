{
 "cells": [
  {
   "cell_type": "code",
   "execution_count": 1,
   "id": "0be111ab-27b8-419c-b733-27e61eb199ec",
   "metadata": {},
   "outputs": [],
   "source": [
    "import psycopg2"
   ]
  },
  {
   "cell_type": "code",
   "execution_count": null,
   "id": "c813577c-0e52-47a4-9940-88e42307f18b",
   "metadata": {},
   "outputs": [
    {
     "name": "stdout",
     "output_type": "stream",
     "text": [
      "Requirement already satisfied: Google in /opt/conda/lib/python3.9/site-packages (3.0.0)\n",
      "Requirement already satisfied: beautifulsoup4 in /opt/conda/lib/python3.9/site-packages (from Google) (4.10.0)\n",
      "Requirement already satisfied: soupsieve>1.2 in /opt/conda/lib/python3.9/site-packages (from beautifulsoup4->Google) (2.3.1)\n"
     ]
    }
   ],
   "source": []
  },
  {
   "cell_type": "code",
   "execution_count": null,
   "id": "7199c52a-f0d1-40cf-b33e-b607561cba84",
   "metadata": {},
   "outputs": [],
   "source": []
  },
  {
   "cell_type": "code",
   "execution_count": null,
   "id": "65572ad6-c765-4847-a09b-e7119b423e91",
   "metadata": {},
   "outputs": [],
   "source": []
  },
  {
   "cell_type": "code",
   "execution_count": 11,
   "id": "18ddcb4c-b51a-4dc1-adcc-f04a689edffd",
   "metadata": {},
   "outputs": [
    {
     "ename": "NameError",
     "evalue": "name 'con' is not defined",
     "output_type": "error",
     "traceback": [
      "\u001b[0;31m---------------------------------------------------------------------------\u001b[0m",
      "\u001b[0;31mNameError\u001b[0m                                 Traceback (most recent call last)",
      "Input \u001b[0;32mIn [11]\u001b[0m, in \u001b[0;36m<cell line: 1>\u001b[0;34m()\u001b[0m\n\u001b[0;32m----> 1\u001b[0m cur \u001b[38;5;241m=\u001b[39m \u001b[43mcon\u001b[49m\u001b[38;5;241m.\u001b[39mcursor()\n",
      "\u001b[0;31mNameError\u001b[0m: name 'con' is not defined"
     ]
    }
   ],
   "source": [
    "cur = con.cursor()"
   ]
  },
  {
   "cell_type": "code",
   "execution_count": 12,
   "id": "68b162d3-d793-4413-91b5-09b1c4a74766",
   "metadata": {},
   "outputs": [
    {
     "ename": "NameError",
     "evalue": "name 'cur' is not defined",
     "output_type": "error",
     "traceback": [
      "\u001b[0;31m---------------------------------------------------------------------------\u001b[0m",
      "\u001b[0;31mNameError\u001b[0m                                 Traceback (most recent call last)",
      "Input \u001b[0;32mIn [12]\u001b[0m, in \u001b[0;36m<cell line: 1>\u001b[0;34m()\u001b[0m\n\u001b[0;32m----> 1\u001b[0m \u001b[43mcur\u001b[49m\u001b[38;5;241m.\u001b[39mexecute(\u001b[38;5;124m\"\u001b[39m\u001b[38;5;124mSELECT * FROM datamarts.tb_consolidada_geral_dia;\u001b[39m\u001b[38;5;124m\"\u001b[39m)\n",
      "\u001b[0;31mNameError\u001b[0m: name 'cur' is not defined"
     ]
    }
   ],
   "source": [
    "cur.execute(\"SELECT * FROM datamarts.tb_consolidada_geral_dia;\")"
   ]
  },
  {
   "cell_type": "code",
   "execution_count": 13,
   "id": "e038c9bd-698d-476f-b62d-0bf8e24ba179",
   "metadata": {},
   "outputs": [],
   "source": [
    "# cur.fetchall()"
   ]
  },
  {
   "cell_type": "code",
   "execution_count": 14,
   "id": "f5ac6dd2-7e21-492f-a1bb-c65c45aff4e4",
   "metadata": {},
   "outputs": [
    {
     "ename": "NameError",
     "evalue": "name 'cur' is not defined",
     "output_type": "error",
     "traceback": [
      "\u001b[0;31m---------------------------------------------------------------------------\u001b[0m",
      "\u001b[0;31mNameError\u001b[0m                                 Traceback (most recent call last)",
      "Input \u001b[0;32mIn [14]\u001b[0m, in \u001b[0;36m<cell line: 1>\u001b[0;34m()\u001b[0m\n\u001b[0;32m----> 1\u001b[0m \u001b[43mcur\u001b[49m\u001b[38;5;241m.\u001b[39mclose()\n",
      "\u001b[0;31mNameError\u001b[0m: name 'cur' is not defined"
     ]
    }
   ],
   "source": [
    "cur.close()"
   ]
  },
  {
   "cell_type": "code",
   "execution_count": 16,
   "id": "fae3cbe3-e2f6-4074-8a81-c61f74de126f",
   "metadata": {},
   "outputs": [],
   "source": [
    "import os "
   ]
  },
  {
   "cell_type": "code",
   "execution_count": 14,
   "id": "0e09c470-4f09-44b5-a75d-a24c9d6ae0a3",
   "metadata": {},
   "outputs": [],
   "source": [
    "# importing the required libraries\n",
    "import gspread\n",
    "import pandas as pd\n",
    "from oauth2client.service_account import ServiceAccountCredentials"
   ]
  },
  {
   "cell_type": "code",
   "execution_count": 17,
   "id": "50172273-199a-4cb9-b25d-77a40cde7daf",
   "metadata": {},
   "outputs": [],
   "source": [
    "# # define the scope\n",
    "# scope = ['https://spreadsheets.google.com/feeds']\n",
    "\n",
    "# # add credentials to the account\n",
    "# creds = ServiceAccountCredentials.from_json_keyfile_name('add_json_file_here.json', scope)\n",
    "\n",
    "# # authorize the clientsheet \n",
    "# client = gspread.authorize(creds)"
   ]
  },
  {
   "cell_type": "code",
   "execution_count": 45,
   "id": "0ec101f8-7136-413c-a995-8d3395c3abd2",
   "metadata": {},
   "outputs": [
    {
     "ename": "SyntaxError",
     "evalue": "invalid syntax (24154923.py, line 1)",
     "output_type": "error",
     "traceback": [
      "\u001b[0;36m  Input \u001b[0;32mIn [45]\u001b[0;36m\u001b[0m\n\u001b[0;31m    from Google import Create_Servicefrom __future__ import print_function\u001b[0m\n\u001b[0m                                          ^\u001b[0m\n\u001b[0;31mSyntaxError\u001b[0m\u001b[0;31m:\u001b[0m invalid syntax\n"
     ]
    }
   ],
   "source": [
    "from Google import Create_Servicefrom __future__ import print_function\n",
    "\n",
    "import os.path\n",
    "\n",
    "from google.auth.transport.requests import Request\n",
    "from google.oauth2.credentials import Credentials\n",
    "from google_auth_oauthlib.flow import InstalledAppFlow\n",
    "from googleapiclient.discovery import build\n",
    "from googleapiclient.errors import HttpError\n",
    "\n",
    "# If modifying these scopes, delete the file token.json.\n",
    "SCOPES = ['https://www.googleapis.com/auth/documents.readonly']\n",
    "\n",
    "# The ID of a sample document.\n",
    "DOCUMENT_ID = '195j9eDD3ccgjQRttHhJPymLJUCOUjs-jmwTrekvdjFE'"
   ]
  },
  {
   "cell_type": "code",
   "execution_count": 46,
   "id": "5ffdef15-7812-431a-a694-cffaec6f58f1",
   "metadata": {},
   "outputs": [],
   "source": [
    "def main():\n",
    "    \"\"\"Shows basic usage of the Docs API.\n",
    "    Prints the title of a sample document.\n",
    "    \"\"\"\n",
    "    creds = None\n",
    "    # The file token.json stores the user's access and refresh tokens, and is\n",
    "    # created automatically when the authorization flow completes for the first\n",
    "    # time.\n",
    "    if os.path.exists('token.json'):\n",
    "        creds = Credentials.from_authorized_user_file('token.json', SCOPES)\n",
    "    # If there are no (valid) credentials available, let the user log in.\n",
    "    if not creds or not creds.valid:\n",
    "        if creds and creds.expired and creds.refresh_token:\n",
    "            creds.refresh(Request())\n",
    "        else:\n",
    "            flow = InstalledAppFlow.from_client_secrets_file(\n",
    "                'credentials.json', SCOPES)\n",
    "            creds = flow.run_local_server(port=0)\n",
    "        # Save the credentials for the next run\n",
    "        with open('token.json', 'w') as token:\n",
    "            token.write(creds.to_json())\n",
    "\n",
    "    try:\n",
    "        service = build('docs', 'v1', credentials=creds)\n",
    "\n",
    "        # Retrieve the documents contents from the Docs service.\n",
    "        document = service.documents().get(documentId=DOCUMENT_ID).execute()\n",
    "\n",
    "        print('The title of the document is: {}'.format(document.get('title')))\n",
    "    except HttpError as err:\n",
    "        print(err)\n"
   ]
  },
  {
   "cell_type": "code",
   "execution_count": 47,
   "id": "64e2eb3e-31d2-415e-8b09-b0884108dd65",
   "metadata": {},
   "outputs": [],
   "source": [
    "  # pip install --upgrade google-api-python-client google-auth-httplib2 google-auth-oauthlib"
   ]
  },
  {
   "cell_type": "code",
   "execution_count": 2,
   "id": "e0a32e8d-1d1b-42a9-b5e9-eb200a608fa4",
   "metadata": {},
   "outputs": [],
   "source": [
    "import gspread"
   ]
  },
  {
   "cell_type": "code",
   "execution_count": 4,
   "id": "2bb39a18-924f-4e8b-915c-80bb3fb6e6ce",
   "metadata": {},
   "outputs": [],
   "source": [
    "# importing the required libraries\n",
    "import gspread\n",
    "import pandas as pd\n",
    "from oauth2client.service_account import ServiceAccountCredentials"
   ]
  },
  {
   "cell_type": "code",
   "execution_count": 27,
   "id": "e4b67053-76a1-4f9b-beb0-c5a74063629a",
   "metadata": {},
   "outputs": [],
   "source": [
    "# define the scope\n",
    "scope = ['https://spreadsheets.google.com/feeds','https://www.googleapis.com/auth/drive']\n",
    "\n",
    "# add credentials to the account\n",
    "creds = ServiceAccountCredentials.from_json_keyfile_name('fiap3sis-3b74d339060b.json', scope)\n",
    "\n",
    "# authorize the clientsheet\n",
    "client = gspread.authorize(creds)"
   ]
  },
  {
   "cell_type": "code",
   "execution_count": 36,
   "id": "edb11ba2-6634-4834-9807-043ccb55fb55",
   "metadata": {},
   "outputs": [],
   "source": [
    "# get the instance of the Spreadsheet\n",
    "sheet = client.open('teste_fiap_diego')\n",
    "\n",
    "# get the first sheet of the Spreadsheet\n",
    "sheet_instance = sheet.get_worksheet(2)"
   ]
  },
  {
   "cell_type": "code",
   "execution_count": 37,
   "id": "49332474-e418-46c2-b394-b009da513dcc",
   "metadata": {},
   "outputs": [
    {
     "data": {
      "text/plain": [
       "<Cell R2C3 '2'>"
      ]
     },
     "execution_count": 37,
     "metadata": {},
     "output_type": "execute_result"
    }
   ],
   "source": [
    "# get the total number of columns\n",
    "sheet_instance.col_count\n",
    "## >> 26\n",
    "\n",
    "\n",
    "# get the value at the specific cell\n",
    "sheet_instance.cell(col=3,row=2)\n",
    "## >> <Cell R2C3 '63881'>"
   ]
  },
  {
   "cell_type": "code",
   "execution_count": 38,
   "id": "776e5b2c-3744-420b-bf3f-34824a3f85fa",
   "metadata": {},
   "outputs": [
    {
     "data": {
      "text/plain": [
       "[{'carros': 'toyota', 'pais': 'japao', 'quantidade': 2},\n",
       " {'carros': 'volkswage', 'pais': 'alemanha', 'quantidade': 3},\n",
       " {'carros': 'volkswage', 'pais': 'alemanha', 'quantidade': 4},\n",
       " {'carros': 'volkswage', 'pais': 'alemanha', 'quantidade': 4},\n",
       " {'carros': 'volkswage', 'pais': 'alemanha', 'quantidade': 2},\n",
       " {'carros': 'volkswage', 'pais': 'alemanha', 'quantidade': 1},\n",
       " {'carros': 'volkswage', 'pais': 'alemanha', 'quantidade': 2},\n",
       " {'carros': 'volkswage', 'pais': 'alemanha', 'quantidade': 2},\n",
       " {'carros': 'volkswage', 'pais': 'alemanha', 'quantidade': 2},\n",
       " {'carros': 'volkswage', 'pais': 'alemanha', 'quantidade': 2},\n",
       " {'carros': 'toyota', 'pais': 'japao', 'quantidade': 3},\n",
       " {'carros': 'toyota', 'pais': 'brasil', 'quantidade': 2},\n",
       " {'carros': 'toyota', 'pais': 'brasil', 'quantidade': 2},\n",
       " {'carros': 'toyota', 'pais': 'alemanha', 'quantidade': 2},\n",
       " {'carros': 'toyota', 'pais': 'brasil', 'quantidade': 2},\n",
       " {'carros': 'toyota', 'pais': 'brasil', 'quantidade': 3},\n",
       " {'carros': 'toyota', 'pais': 'japao', 'quantidade': 2},\n",
       " {'carros': 'toyota', 'pais': 'japao', 'quantidade': 2},\n",
       " {'carros': 'toyota', 'pais': 'japao', 'quantidade': 2},\n",
       " {'carros': 'toyota', 'pais': 'japao', 'quantidade': 2}]"
      ]
     },
     "execution_count": 38,
     "metadata": {},
     "output_type": "execute_result"
    }
   ],
   "source": [
    "# get all the records of the data\n",
    "records_data = sheet_instance.get_all_records()\n",
    "\n",
    "# view the data\n",
    "records_data"
   ]
  },
  {
   "cell_type": "code",
   "execution_count": 39,
   "id": "91499205-d614-4ce8-b98e-6cf544670d23",
   "metadata": {},
   "outputs": [
    {
     "data": {
      "text/html": [
       "<div>\n",
       "<style scoped>\n",
       "    .dataframe tbody tr th:only-of-type {\n",
       "        vertical-align: middle;\n",
       "    }\n",
       "\n",
       "    .dataframe tbody tr th {\n",
       "        vertical-align: top;\n",
       "    }\n",
       "\n",
       "    .dataframe thead th {\n",
       "        text-align: right;\n",
       "    }\n",
       "</style>\n",
       "<table border=\"1\" class=\"dataframe\">\n",
       "  <thead>\n",
       "    <tr style=\"text-align: right;\">\n",
       "      <th></th>\n",
       "      <th>carros</th>\n",
       "      <th>pais</th>\n",
       "      <th>quantidade</th>\n",
       "    </tr>\n",
       "  </thead>\n",
       "  <tbody>\n",
       "    <tr>\n",
       "      <th>0</th>\n",
       "      <td>toyota</td>\n",
       "      <td>japao</td>\n",
       "      <td>2</td>\n",
       "    </tr>\n",
       "    <tr>\n",
       "      <th>1</th>\n",
       "      <td>volkswage</td>\n",
       "      <td>alemanha</td>\n",
       "      <td>3</td>\n",
       "    </tr>\n",
       "    <tr>\n",
       "      <th>2</th>\n",
       "      <td>volkswage</td>\n",
       "      <td>alemanha</td>\n",
       "      <td>4</td>\n",
       "    </tr>\n",
       "    <tr>\n",
       "      <th>3</th>\n",
       "      <td>volkswage</td>\n",
       "      <td>alemanha</td>\n",
       "      <td>4</td>\n",
       "    </tr>\n",
       "    <tr>\n",
       "      <th>4</th>\n",
       "      <td>volkswage</td>\n",
       "      <td>alemanha</td>\n",
       "      <td>2</td>\n",
       "    </tr>\n",
       "  </tbody>\n",
       "</table>\n",
       "</div>"
      ],
      "text/plain": [
       "      carros      pais  quantidade\n",
       "0     toyota     japao           2\n",
       "1  volkswage  alemanha           3\n",
       "2  volkswage  alemanha           4\n",
       "3  volkswage  alemanha           4\n",
       "4  volkswage  alemanha           2"
      ]
     },
     "execution_count": 39,
     "metadata": {},
     "output_type": "execute_result"
    }
   ],
   "source": [
    "# convert the json to dataframe\n",
    "records_df = pd.DataFrame.from_dict(records_data)\n",
    "\n",
    "# view the top records\n",
    "records_df.head()"
   ]
  },
  {
   "cell_type": "code",
   "execution_count": 43,
   "id": "2c731b2f-7661-4774-90c4-b4e8e7bdc045",
   "metadata": {},
   "outputs": [],
   "source": [
    "# add a sheet with 20 rows and 2 columns\n",
    "# sheet.add_worksheet(rows=20,cols=2,title='runs')\n",
    "\n",
    "# get the instance of the second sheet\n",
    "sheet_runs = sheet.get_worksheet(1)"
   ]
  },
  {
   "cell_type": "code",
   "execution_count": 42,
   "id": "cc8e08ee-a333-405e-baaa-2fc76e83eb98",
   "metadata": {},
   "outputs": [
    {
     "data": {
      "text/plain": [
       "{'spreadsheetId': '1I-T8eg390sxC7JVMR61YmqBXgCqwXKH0FtwHX5KUdfM',\n",
       " 'updates': {'spreadsheetId': '1I-T8eg390sxC7JVMR61YmqBXgCqwXKH0FtwHX5KUdfM',\n",
       "  'updatedRange': 'runs!A1:B3',\n",
       "  'updatedRows': 3,\n",
       "  'updatedColumns': 2,\n",
       "  'updatedCells': 6}}"
      ]
     },
     "execution_count": 42,
     "metadata": {},
     "output_type": "execute_result"
    }
   ],
   "source": [
    "sheet_runs.insert_rows(runs.values.tolist())"
   ]
  },
  {
   "cell_type": "code",
   "execution_count": 41,
   "id": "67f26a2a-fd60-41ba-b085-cb6a2a88374c",
   "metadata": {},
   "outputs": [
    {
     "data": {
      "text/html": [
       "<div>\n",
       "<style scoped>\n",
       "    .dataframe tbody tr th:only-of-type {\n",
       "        vertical-align: middle;\n",
       "    }\n",
       "\n",
       "    .dataframe tbody tr th {\n",
       "        vertical-align: top;\n",
       "    }\n",
       "\n",
       "    .dataframe thead th {\n",
       "        text-align: right;\n",
       "    }\n",
       "</style>\n",
       "<table border=\"1\" class=\"dataframe\">\n",
       "  <thead>\n",
       "    <tr style=\"text-align: right;\">\n",
       "      <th></th>\n",
       "      <th>pais</th>\n",
       "      <th>quantidade</th>\n",
       "    </tr>\n",
       "  </thead>\n",
       "  <tbody>\n",
       "    <tr>\n",
       "      <th>0</th>\n",
       "      <td>alemanha</td>\n",
       "      <td>10</td>\n",
       "    </tr>\n",
       "    <tr>\n",
       "      <th>1</th>\n",
       "      <td>brasil</td>\n",
       "      <td>4</td>\n",
       "    </tr>\n",
       "    <tr>\n",
       "      <th>2</th>\n",
       "      <td>japao</td>\n",
       "      <td>6</td>\n",
       "    </tr>\n",
       "  </tbody>\n",
       "</table>\n",
       "</div>"
      ],
      "text/plain": [
       "       pais  quantidade\n",
       "0  alemanha          10\n",
       "1    brasil           4\n",
       "2     japao           6"
      ]
     },
     "execution_count": 41,
     "metadata": {},
     "output_type": "execute_result"
    }
   ],
   "source": [
    "\n",
    "# number of runs by each batsman\n",
    "runs = records_df.groupby(['pais'])['quantidade'].count().reset_index()\n",
    "runs"
   ]
  },
  {
   "cell_type": "code",
   "execution_count": 51,
   "id": "7ede74b2-d350-4212-b17b-60efea31ec97",
   "metadata": {},
   "outputs": [],
   "source": [
    "# def main():\n",
    "#     \"\"\"Shows basic usage of the Sheets API.\n",
    "#     Prints values from a sample spreadsheet.\n",
    "#     \"\"\"\n",
    "#     creds = None\n",
    "#     # The file token.json stores the user's access and refresh tokens, and is\n",
    "#     # created automatically when the authorization flow completes for the first\n",
    "#     # time.\n",
    "#     if os.path.exists('token.json'):\n",
    "#         creds = Credentials.from_authorized_user_file('token.json', SCOPES)\n",
    "#     # If there are no (valid) credentials available, let the user log in.\n",
    "#     if not creds or not creds.valid:\n",
    "#         if creds and creds.expired and creds.refresh_token:\n",
    "#             creds.refresh(Request())\n",
    "#         else:\n",
    "#             flow = InstalledAppFlow.from_client_secrets_file(\n",
    "#                 'fiap3sis-3b74d339060b.json', SCOPES)\n",
    "#             creds = flow.run_local_server(port=0)\n",
    "#         # Save the credentials for the next run\n",
    "#         with open('token.json', 'w') as token:\n",
    "#             token.write(creds.to_json())\n",
    "\n",
    "#     try:\n",
    "#         service = build('sheets', 'v4', credentials=creds)\n",
    "\n",
    "#         # Call the Sheets API\n",
    "#         sheet = service.spreadsheets()\n",
    "#         result = sheet.values().get(spreadsheetId=SAMPLE_SPREADSHEET_ID,\n",
    "#                                     range=SAMPLE_RANGE_NAME).execute()\n",
    "#         values = result.get('values', [])\n",
    "\n",
    "#         if not values:\n",
    "#             print('No data found.')\n",
    "#             return\n",
    "\n",
    "#         print('Name, Major:')\n",
    "#         for row in values:\n",
    "#             # Print columns A and E, which correspond to indices 0 and 4.\n",
    "#             print('%s, %s' % (row[0], row[4]))\n",
    "#     except HttpError as err:\n",
    "#         print(err)"
   ]
  },
  {
   "cell_type": "code",
   "execution_count": 55,
   "id": "7c94d8c2-255f-427b-9eca-b8b601443f6a",
   "metadata": {},
   "outputs": [
    {
     "ename": "ValueError",
     "evalue": "Client secrets must be for a web or installed app.",
     "output_type": "error",
     "traceback": [
      "\u001b[0;31m---------------------------------------------------------------------------\u001b[0m",
      "\u001b[0;31mValueError\u001b[0m                                Traceback (most recent call last)",
      "Input \u001b[0;32mIn [55]\u001b[0m, in \u001b[0;36m<cell line: 41>\u001b[0;34m()\u001b[0m\n\u001b[1;32m     38\u001b[0m     \u001b[38;5;28;01mif\u001b[39;00m \u001b[38;5;129;01mnot\u001b[39;00m values_input \u001b[38;5;129;01mand\u001b[39;00m \u001b[38;5;129;01mnot\u001b[39;00m values_expansion:\n\u001b[1;32m     39\u001b[0m         \u001b[38;5;28mprint\u001b[39m(\u001b[38;5;124m'\u001b[39m\u001b[38;5;124mNo data found.\u001b[39m\u001b[38;5;124m'\u001b[39m)\n\u001b[0;32m---> 41\u001b[0m \u001b[43mmain\u001b[49m\u001b[43m(\u001b[49m\u001b[43m)\u001b[49m\n\u001b[1;32m     43\u001b[0m df\u001b[38;5;241m=\u001b[39mpd\u001b[38;5;241m.\u001b[39mDataFrame(values_input[\u001b[38;5;241m1\u001b[39m:], columns\u001b[38;5;241m=\u001b[39mvalues_input[\u001b[38;5;241m0\u001b[39m])\n",
      "Input \u001b[0;32mIn [55]\u001b[0m, in \u001b[0;36mmain\u001b[0;34m()\u001b[0m\n\u001b[1;32m     22\u001b[0m     creds\u001b[38;5;241m.\u001b[39mrefresh(Request())\n\u001b[1;32m     23\u001b[0m \u001b[38;5;28;01melse\u001b[39;00m:\n\u001b[0;32m---> 24\u001b[0m     flow \u001b[38;5;241m=\u001b[39m \u001b[43mInstalledAppFlow\u001b[49m\u001b[38;5;241;43m.\u001b[39;49m\u001b[43mfrom_client_secrets_file\u001b[49m\u001b[43m(\u001b[49m\n\u001b[1;32m     25\u001b[0m \u001b[43m        \u001b[49m\u001b[38;5;124;43m'\u001b[39;49m\u001b[38;5;124;43mfiap3sis-3b74d339060b.json\u001b[39;49m\u001b[38;5;124;43m'\u001b[39;49m\u001b[43m,\u001b[49m\u001b[43m \u001b[49m\u001b[43mSCOPES\u001b[49m\u001b[43m)\u001b[49m \u001b[38;5;66;03m# here enter the name of your downloaded JSON file\u001b[39;00m\n\u001b[1;32m     26\u001b[0m     creds \u001b[38;5;241m=\u001b[39m flow\u001b[38;5;241m.\u001b[39mrun_local_server(port\u001b[38;5;241m=\u001b[39m\u001b[38;5;241m0\u001b[39m)\n\u001b[1;32m     27\u001b[0m \u001b[38;5;28;01mwith\u001b[39;00m \u001b[38;5;28mopen\u001b[39m(\u001b[38;5;124m'\u001b[39m\u001b[38;5;124mtoken.pickle\u001b[39m\u001b[38;5;124m'\u001b[39m, \u001b[38;5;124m'\u001b[39m\u001b[38;5;124mwb\u001b[39m\u001b[38;5;124m'\u001b[39m) \u001b[38;5;28;01mas\u001b[39;00m token:\n",
      "File \u001b[0;32m/opt/conda/lib/python3.9/site-packages/google_auth_oauthlib/flow.py:207\u001b[0m, in \u001b[0;36mFlow.from_client_secrets_file\u001b[0;34m(cls, client_secrets_file, scopes, **kwargs)\u001b[0m\n\u001b[1;32m    204\u001b[0m \u001b[38;5;28;01mwith\u001b[39;00m \u001b[38;5;28mopen\u001b[39m(client_secrets_file, \u001b[38;5;124m\"\u001b[39m\u001b[38;5;124mr\u001b[39m\u001b[38;5;124m\"\u001b[39m) \u001b[38;5;28;01mas\u001b[39;00m json_file:\n\u001b[1;32m    205\u001b[0m     client_config \u001b[38;5;241m=\u001b[39m json\u001b[38;5;241m.\u001b[39mload(json_file)\n\u001b[0;32m--> 207\u001b[0m \u001b[38;5;28;01mreturn\u001b[39;00m \u001b[38;5;28;43mcls\u001b[39;49m\u001b[38;5;241;43m.\u001b[39;49m\u001b[43mfrom_client_config\u001b[49m\u001b[43m(\u001b[49m\u001b[43mclient_config\u001b[49m\u001b[43m,\u001b[49m\u001b[43m \u001b[49m\u001b[43mscopes\u001b[49m\u001b[38;5;241;43m=\u001b[39;49m\u001b[43mscopes\u001b[49m\u001b[43m,\u001b[49m\u001b[43m \u001b[49m\u001b[38;5;241;43m*\u001b[39;49m\u001b[38;5;241;43m*\u001b[39;49m\u001b[43mkwargs\u001b[49m\u001b[43m)\u001b[49m\n",
      "File \u001b[0;32m/opt/conda/lib/python3.9/site-packages/google_auth_oauthlib/flow.py:165\u001b[0m, in \u001b[0;36mFlow.from_client_config\u001b[0;34m(cls, client_config, scopes, **kwargs)\u001b[0m\n\u001b[1;32m    163\u001b[0m     client_type \u001b[38;5;241m=\u001b[39m \u001b[38;5;124m\"\u001b[39m\u001b[38;5;124minstalled\u001b[39m\u001b[38;5;124m\"\u001b[39m\n\u001b[1;32m    164\u001b[0m \u001b[38;5;28;01melse\u001b[39;00m:\n\u001b[0;32m--> 165\u001b[0m     \u001b[38;5;28;01mraise\u001b[39;00m \u001b[38;5;167;01mValueError\u001b[39;00m(\u001b[38;5;124m\"\u001b[39m\u001b[38;5;124mClient secrets must be for a web or installed app.\u001b[39m\u001b[38;5;124m\"\u001b[39m)\n\u001b[1;32m    167\u001b[0m \u001b[38;5;66;03m# these args cannot be passed to requests_oauthlib.OAuth2Session\u001b[39;00m\n\u001b[1;32m    168\u001b[0m code_verifier \u001b[38;5;241m=\u001b[39m kwargs\u001b[38;5;241m.\u001b[39mpop(\u001b[38;5;124m\"\u001b[39m\u001b[38;5;124mcode_verifier\u001b[39m\u001b[38;5;124m\"\u001b[39m, \u001b[38;5;28;01mNone\u001b[39;00m)\n",
      "\u001b[0;31mValueError\u001b[0m: Client secrets must be for a web or installed app."
     ]
    }
   ],
   "source": [
    "import pandas as pd\n",
    "from googleapiclient.discovery import build\n",
    "from google_auth_oauthlib.flow import InstalledAppFlow,Flow\n",
    "from google.auth.transport.requests import Request\n",
    "import os\n",
    "import pickle\n",
    "\n",
    "SCOPES = ['https://www.googleapis.com/auth/drive']\n",
    "\n",
    "# here enter the id of your google sheet\n",
    "SAMPLE_SPREADSHEET_ID_input = '1I-T8eg390sxC7JVMR61YmqBXgCqwXKH0FtwHX5KUdfM'\n",
    "SAMPLE_RANGE_NAME = 'A1:AA1000'\n",
    "\n",
    "def main():\n",
    "    global values_input, service\n",
    "    creds = None\n",
    "    if os.path.exists('token.pickle'):\n",
    "        with open('token.pickle', 'rb') as token:\n",
    "            creds = pickle.load(token)\n",
    "    if not creds or not creds.valid:\n",
    "        if creds and creds.expired and creds.refresh_token:\n",
    "            creds.refresh(Request())\n",
    "        else:\n",
    "            flow = InstalledAppFlow.from_client_secrets_file(\n",
    "                'fiap3sis-3b74d339060b.json', SCOPES) # here enter the name of your downloaded JSON file\n",
    "            creds = flow.run_local_server(port=0)\n",
    "        with open('token.pickle', 'wb') as token:\n",
    "            pickle.dump(creds, token)\n",
    "\n",
    "    service = build('sheets', 'v4', credentials=creds)\n",
    "\n",
    "    # Call the Sheets API\n",
    "    sheet = service.spreadsheets()\n",
    "    result_input = sheet.values().get(spreadsheetId=SAMPLE_SPREADSHEET_ID_input,\n",
    "                                range=SAMPLE_RANGE_NAME).execute()\n",
    "    values_input = result_input.get('values', [])\n",
    "\n",
    "    if not values_input and not values_expansion:\n",
    "        print('No data found.')\n",
    "\n",
    "main()\n",
    "\n",
    "df=pd.DataFrame(values_input[1:], columns=values_input[0])"
   ]
  },
  {
   "cell_type": "code",
   "execution_count": 1,
   "id": "c9b85e71-12f5-4514-80cc-2db49fef7f5f",
   "metadata": {},
   "outputs": [
    {
     "ename": "SyntaxError",
     "evalue": "invalid syntax (1210039442.py, line 1)",
     "output_type": "error",
     "traceback": [
      "\u001b[0;36m  Input \u001b[0;32mIn [1]\u001b[0;36m\u001b[0m\n\u001b[0;31m    H(x) -> h\u001b[0m\n\u001b[0m         ^\u001b[0m\n\u001b[0;31mSyntaxError\u001b[0m\u001b[0;31m:\u001b[0m invalid syntax\n"
     ]
    }
   ],
   "source": [
    "H(x) -> h"
   ]
  },
  {
   "cell_type": "code",
   "execution_count": 2,
   "id": "e1d75a40-10aa-422d-b9de-d2c2952a953d",
   "metadata": {},
   "outputs": [],
   "source": [
    "import hashlib"
   ]
  },
  {
   "cell_type": "code",
   "execution_count": 6,
   "id": "23f64508-6383-4868-a948-3c66d4fc1512",
   "metadata": {},
   "outputs": [
    {
     "name": "stdout",
     "output_type": "stream",
     "text": [
      "{'sha512_224', 'blake2s', 'shake_128', 'sha3_224', 'sha384', 'sha3_256', 'ripemd160', 'sha512_256', 'whirlpool', 'sm3', 'mdc2', 'sha256', 'sha224', 'blake2b', 'sha3_512', 'md4', 'sha3_384', 'md5', 'md5-sha1', 'sha1', 'sha512', 'shake_256'}\n"
     ]
    }
   ],
   "source": [
    "print(hashlib.algorithms_available)"
   ]
  },
  {
   "cell_type": "code",
   "execution_count": 5,
   "id": "8c867e2f-7b05-4c69-af94-0d719905e1be",
   "metadata": {},
   "outputs": [
    {
     "ename": "TypeError",
     "evalue": "Strings must be encoded before hashing",
     "output_type": "error",
     "traceback": [
      "\u001b[0;31m---------------------------------------------------------------------------\u001b[0m",
      "\u001b[0;31mTypeError\u001b[0m                                 Traceback (most recent call last)",
      "Input \u001b[0;32mIn [5]\u001b[0m, in \u001b[0;36m<cell line: 1>\u001b[0;34m()\u001b[0m\n\u001b[0;32m----> 1\u001b[0m \u001b[43mhashlib\u001b[49m\u001b[38;5;241;43m.\u001b[39;49m\u001b[43mmd5\u001b[49m\u001b[43m(\u001b[49m\u001b[38;5;124;43m'\u001b[39;49m\u001b[38;5;124;43m123\u001b[39;49m\u001b[38;5;124;43m'\u001b[39;49m\u001b[43m)\u001b[49m\u001b[38;5;241m.\u001b[39mhexdigest()\n",
      "\u001b[0;31mTypeError\u001b[0m: Strings must be encoded before hashing"
     ]
    }
   ],
   "source": [
    "hashlib.md5('123').hexdigest()"
   ]
  },
  {
   "cell_type": "code",
   "execution_count": 7,
   "id": "38ab4fc0-8179-41ef-b79a-4c42035915a1",
   "metadata": {},
   "outputs": [
    {
     "name": "stdout",
     "output_type": "stream",
     "text": [
      "b'\\xb1\\n\\x8d\\xb1d\\xe0uA\\x05\\xb7\\xa9\\x9b\\xe7.?\\xe5'\n"
     ]
    }
   ],
   "source": [
    "print(hashlib.md5(b'Hello World').digest())"
   ]
  },
  {
   "cell_type": "code",
   "execution_count": null,
   "id": "6808b55b-2dca-42fe-8407-e119fb53361d",
   "metadata": {},
   "outputs": [],
   "source": []
  }
 ],
 "metadata": {
  "kernelspec": {
   "display_name": "Python 3 (ipykernel)",
   "language": "python",
   "name": "python3"
  },
  "language_info": {
   "codemirror_mode": {
    "name": "ipython",
    "version": 3
   },
   "file_extension": ".py",
   "mimetype": "text/x-python",
   "name": "python",
   "nbconvert_exporter": "python",
   "pygments_lexer": "ipython3",
   "version": "3.9.10"
  }
 },
 "nbformat": 4,
 "nbformat_minor": 5
}
